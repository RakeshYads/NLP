{
 "cells": [
  {
   "cell_type": "markdown",
   "id": "028edda4",
   "metadata": {},
   "source": [
    "spaCy does not contain any function for stemming. spaCy provides lemmatization via dictionary lookup and each language has its own dictionary. NLTK package has several stemming functions including Porter and Lanchester"
   ]
  },
  {
   "cell_type": "code",
   "execution_count": 1,
   "id": "b83d3e7c",
   "metadata": {},
   "outputs": [
    {
     "name": "stderr",
     "output_type": "stream",
     "text": [
      "C:\\Users\\rakes\\anaconda3\\envs\\nlp_course\\lib\\site-packages\\sklearn\\utils\\validation.py:37: DeprecationWarning: distutils Version classes are deprecated. Use packaging.version instead.\n",
      "  LARGE_SPARSE_SUPPORTED = LooseVersion(scipy_version) >= '0.14.0'\n"
     ]
    }
   ],
   "source": [
    "import nltk"
   ]
  },
  {
   "cell_type": "code",
   "execution_count": 2,
   "id": "8a8062ac",
   "metadata": {},
   "outputs": [],
   "source": [
    "from nltk.stem.porter import PorterStemmer"
   ]
  },
  {
   "cell_type": "code",
   "execution_count": 3,
   "id": "a1443f3a",
   "metadata": {},
   "outputs": [],
   "source": [
    "p_stemmer = PorterStemmer()"
   ]
  },
  {
   "cell_type": "code",
   "execution_count": 4,
   "id": "baf96a7e",
   "metadata": {},
   "outputs": [],
   "source": [
    "words = ['sing','singer','dance','dancer','class','classes','classification']"
   ]
  },
  {
   "cell_type": "code",
   "execution_count": 5,
   "id": "7d9924ba",
   "metadata": {},
   "outputs": [
    {
     "name": "stdout",
     "output_type": "stream",
     "text": [
      "sing-------->sing\n",
      "singer-------->singer\n",
      "dance-------->danc\n",
      "dancer-------->dancer\n",
      "class-------->class\n",
      "classes-------->class\n",
      "classification-------->classif\n"
     ]
    }
   ],
   "source": [
    "for word in words:\n",
    "    print(word + '-------->' + p_stemmer.stem(word))"
   ]
  },
  {
   "cell_type": "code",
   "execution_count": 6,
   "id": "3285027c",
   "metadata": {},
   "outputs": [],
   "source": [
    "from nltk.stem.snowball import SnowballStemmer"
   ]
  },
  {
   "cell_type": "code",
   "execution_count": 7,
   "id": "17cc93fe",
   "metadata": {},
   "outputs": [],
   "source": [
    "snow = SnowballStemmer(language = 'english')"
   ]
  },
  {
   "cell_type": "code",
   "execution_count": 8,
   "id": "37df81de",
   "metadata": {},
   "outputs": [
    {
     "name": "stdout",
     "output_type": "stream",
     "text": [
      "sing-------->sing\n",
      "singer-------->singer\n",
      "dance-------->danc\n",
      "dancer-------->dancer\n",
      "class-------->class\n",
      "classes-------->class\n",
      "classification-------->classif\n"
     ]
    }
   ],
   "source": [
    "for word in words:\n",
    "    print(word + '-------->' + snow.stem(word))"
   ]
  }
 ],
 "metadata": {
  "kernelspec": {
   "display_name": "Python 3 (ipykernel)",
   "language": "python",
   "name": "python3"
  },
  "language_info": {
   "codemirror_mode": {
    "name": "ipython",
    "version": 3
   },
   "file_extension": ".py",
   "mimetype": "text/x-python",
   "name": "python",
   "nbconvert_exporter": "python",
   "pygments_lexer": "ipython3",
   "version": "3.7.13"
  }
 },
 "nbformat": 4,
 "nbformat_minor": 5
}
