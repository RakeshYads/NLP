{
 "cells": [
  {
   "cell_type": "code",
   "execution_count": 1,
   "id": "9d46674e",
   "metadata": {},
   "outputs": [],
   "source": [
    "import spacy\n",
    "#import en_core_web_sm  (as linking failed while downloading)"
   ]
  },
  {
   "cell_type": "code",
   "execution_count": 2,
   "id": "33955ae5",
   "metadata": {},
   "outputs": [],
   "source": [
    "nlp = spacy.load('en_core_web_sm')"
   ]
  },
  {
   "cell_type": "code",
   "execution_count": 11,
   "id": "44bad1ee",
   "metadata": {},
   "outputs": [],
   "source": [
    "doc = nlp(u'Elon Musk Company - Tesla based on U.S. is looking to buy Twitter at $44 Billion.')#u for unicode string"
   ]
  },
  {
   "cell_type": "code",
   "execution_count": 12,
   "id": "d6f11f14",
   "metadata": {},
   "outputs": [
    {
     "data": {
      "text/plain": [
       "Elon Musk Company - Tesla based on U.S. is looking to buy Twitter at $44 Billion."
      ]
     },
     "execution_count": 12,
     "metadata": {},
     "output_type": "execute_result"
    }
   ],
   "source": [
    "doc"
   ]
  },
  {
   "cell_type": "code",
   "execution_count": 13,
   "id": "cbf0cd9f",
   "metadata": {},
   "outputs": [
    {
     "name": "stdout",
     "output_type": "stream",
     "text": [
      "Elon\n",
      "Musk\n",
      "Company\n",
      "-\n",
      "Tesla\n",
      "based\n",
      "on\n",
      "U.S.\n",
      "is\n",
      "looking\n",
      "to\n",
      "buy\n",
      "Twitter\n",
      "at\n",
      "$\n",
      "44\n",
      "Billion\n",
      ".\n"
     ]
    }
   ],
   "source": [
    "for token in doc:\n",
    "    print(token.text)"
   ]
  },
  {
   "cell_type": "code",
   "execution_count": 18,
   "id": "699dce46",
   "metadata": {},
   "outputs": [
    {
     "name": "stdout",
     "output_type": "stream",
     "text": [
      "Elon 95 PROPN compound\n",
      "Musk 95 PROPN compound\n",
      "Company 95 PROPN compound\n",
      "- 96 PUNCT punct\n",
      "Tesla 95 PROPN nsubj\n",
      "based 99 VERB acl\n",
      "on 84 ADP prep\n",
      "U.S. 95 PROPN pobj\n",
      "is 99 VERB aux\n",
      "looking 99 VERB ROOT\n",
      "to 93 PART aux\n",
      "buy 99 VERB xcomp\n",
      "Twitter 95 PROPN dobj\n",
      "at 84 ADP prep\n",
      "$ 98 SYM quantmod\n",
      "44 92 NUM compound\n",
      "Billion 92 NUM pobj\n",
      ". 96 PUNCT punct\n"
     ]
    }
   ],
   "source": [
    "for token in doc:\n",
    "    print(token.text,token.pos,token.pos_,token.dep_)"
   ]
  },
  {
   "cell_type": "code",
   "execution_count": 21,
   "id": "bb32c919",
   "metadata": {},
   "outputs": [
    {
     "name": "stdout",
     "output_type": "stream",
     "text": [
      "Elon                         95 PROPN                compound            \n",
      "Musk                         95 PROPN                compound            \n",
      "Company                      95 PROPN                compound            \n",
      "-                            96 PUNCT                punct               \n",
      "Tesla                        95 PROPN                nsubj               \n",
      "based                        99 VERB                 acl                 \n",
      "on                           84 ADP                  prep                \n",
      "U.S.                         95 PROPN                pobj                \n",
      "is                           99 VERB                 aux                 \n",
      "looking                      99 VERB                 ROOT                \n",
      "to                           93 PART                 aux                 \n",
      "buy                          99 VERB                 xcomp               \n",
      "Twitter                      95 PROPN                dobj                \n",
      "at                           84 ADP                  prep                \n",
      "$                            98 SYM                  quantmod            \n",
      "44                           92 NUM                  compound            \n",
      "Billion                      92 NUM                  pobj                \n",
      ".                            96 PUNCT                punct               \n"
     ]
    }
   ],
   "source": [
    "for token in doc:\n",
    "    print(f\"{token.text:{20}} {token.pos:{10}} {token.pos_:{20}} {token.dep_:{20}}\")"
   ]
  },
  {
   "cell_type": "code",
   "execution_count": 22,
   "id": "d1936e7e",
   "metadata": {},
   "outputs": [
    {
     "data": {
      "text/plain": [
       "[('tagger', <spacy.pipeline.Tagger at 0x2325caf6448>),\n",
       " ('parser', <spacy.pipeline.DependencyParser at 0x2325caf26a8>),\n",
       " ('ner', <spacy.pipeline.EntityRecognizer at 0x2325caf2c48>)]"
      ]
     },
     "execution_count": 22,
     "metadata": {},
     "output_type": "execute_result"
    }
   ],
   "source": [
    "nlp.pipeline"
   ]
  },
  {
   "cell_type": "code",
   "execution_count": 23,
   "id": "b1026322",
   "metadata": {},
   "outputs": [
    {
     "data": {
      "text/plain": [
       "['tagger', 'parser', 'ner']"
      ]
     },
     "execution_count": 23,
     "metadata": {},
     "output_type": "execute_result"
    }
   ],
   "source": [
    "nlp.pipe_names"
   ]
  },
  {
   "cell_type": "code",
   "execution_count": 24,
   "id": "111a441f",
   "metadata": {},
   "outputs": [],
   "source": [
    "doc2 = nlp(u\"Tesla isn't looking to buy Twitter anymore!! Due to diagreements.\")"
   ]
  },
  {
   "cell_type": "code",
   "execution_count": 25,
   "id": "9e8e7895",
   "metadata": {},
   "outputs": [
    {
     "name": "stdout",
     "output_type": "stream",
     "text": [
      "Tesla                        95 PROPN                nsubj               \n",
      "is                           99 VERB                 aux                 \n",
      "n't                          85 ADV                  neg                 \n",
      "looking                      99 VERB                 ROOT                \n",
      "to                           93 PART                 aux                 \n",
      "buy                          99 VERB                 xcomp               \n",
      "Twitter                      95 PROPN                dobj                \n",
      "anymore                      85 ADV                  advmod              \n",
      "!                            96 PUNCT                punct               \n",
      "!                            96 PUNCT                punct               \n",
      "Due                          84 ADP                  ROOT                \n",
      "to                           84 ADP                  pcomp               \n",
      "diagreements                 91 NOUN                 pobj                \n",
      ".                            96 PUNCT                punct               \n"
     ]
    }
   ],
   "source": [
    "for token in doc2:\n",
    "    print(f\"{token.text:{20}} {token.pos:{10}} {token.pos_:{20}} {token.dep_:{20}}\")"
   ]
  },
  {
   "cell_type": "code",
   "execution_count": 26,
   "id": "07a81d64",
   "metadata": {},
   "outputs": [
    {
     "data": {
      "text/plain": [
       "Tesla"
      ]
     },
     "execution_count": 26,
     "metadata": {},
     "output_type": "execute_result"
    }
   ],
   "source": [
    "doc2[0]"
   ]
  },
  {
   "cell_type": "code",
   "execution_count": 27,
   "id": "1c658f5c",
   "metadata": {},
   "outputs": [
    {
     "data": {
      "text/plain": [
       "'PROPN'"
      ]
     },
     "execution_count": 27,
     "metadata": {},
     "output_type": "execute_result"
    }
   ],
   "source": [
    "doc2[0].pos_"
   ]
  },
  {
   "cell_type": "code",
   "execution_count": 29,
   "id": "7f96e6ad",
   "metadata": {},
   "outputs": [
    {
     "data": {
      "text/plain": [
       "'look'"
      ]
     },
     "execution_count": 29,
     "metadata": {},
     "output_type": "execute_result"
    }
   ],
   "source": [
    "doc2[3].lemma_"
   ]
  },
  {
   "cell_type": "code",
   "execution_count": 30,
   "id": "cc5ad9a4",
   "metadata": {},
   "outputs": [
    {
     "data": {
      "text/plain": [
       "False"
      ]
     },
     "execution_count": 30,
     "metadata": {},
     "output_type": "execute_result"
    }
   ],
   "source": [
    "doc2[3].is_stop"
   ]
  },
  {
   "cell_type": "code",
   "execution_count": 31,
   "id": "7677b3c9",
   "metadata": {},
   "outputs": [],
   "source": [
    "doc3 = nlp(u'Although commmonly attributed to John Lennon from his song \"Beautiful Boy\", \\\n",
    "the phrase \"Life is what happens to us while we are making other plans\" was written by \\\n",
    "cartoonist Allen Saunders and published in Reader\\'s Digest in 1957, when Lennon was 17.')"
   ]
  },
  {
   "cell_type": "code",
   "execution_count": 33,
   "id": "3d75f08b",
   "metadata": {},
   "outputs": [
    {
     "data": {
      "text/plain": [
       "\"Life is what happens to us while we are making other plans\""
      ]
     },
     "execution_count": 33,
     "metadata": {},
     "output_type": "execute_result"
    }
   ],
   "source": [
    "life_quote = doc3[16:30]\n",
    "life_quote"
   ]
  },
  {
   "cell_type": "code",
   "execution_count": 34,
   "id": "c4c48272",
   "metadata": {},
   "outputs": [
    {
     "data": {
      "text/plain": [
       "spacy.tokens.span.Span"
      ]
     },
     "execution_count": 34,
     "metadata": {},
     "output_type": "execute_result"
    }
   ],
   "source": [
    "type(life_quote)"
   ]
  },
  {
   "cell_type": "code",
   "execution_count": 35,
   "id": "78a62015",
   "metadata": {},
   "outputs": [
    {
     "data": {
      "text/plain": [
       "spacy.tokens.doc.Doc"
      ]
     },
     "execution_count": 35,
     "metadata": {},
     "output_type": "execute_result"
    }
   ],
   "source": [
    "type(doc3)"
   ]
  },
  {
   "cell_type": "code",
   "execution_count": 36,
   "id": "16519f50",
   "metadata": {},
   "outputs": [
    {
     "data": {
      "text/plain": [
       "spacy.tokens.token.Token"
      ]
     },
     "execution_count": 36,
     "metadata": {},
     "output_type": "execute_result"
    }
   ],
   "source": [
    "type(doc3[16])"
   ]
  },
  {
   "cell_type": "code",
   "execution_count": 39,
   "id": "bcc6eb07",
   "metadata": {},
   "outputs": [],
   "source": [
    "doc4 = nlp(u'This is the first sentence. This is another sentence. This is the last sentence.')"
   ]
  },
  {
   "cell_type": "code",
   "execution_count": 40,
   "id": "8db2360a",
   "metadata": {},
   "outputs": [
    {
     "name": "stdout",
     "output_type": "stream",
     "text": [
      "This is the first sentence.\n",
      "This is another sentence.\n",
      "This is the last sentence.\n"
     ]
    }
   ],
   "source": [
    "for sent in doc4.sents:\n",
    "    print(sent)"
   ]
  },
  {
   "cell_type": "code",
   "execution_count": 52,
   "id": "61c85118",
   "metadata": {},
   "outputs": [
    {
     "data": {
      "text/plain": [
       "True"
      ]
     },
     "execution_count": 52,
     "metadata": {},
     "output_type": "execute_result"
    }
   ],
   "source": [
    "doc4[6].is_sent_start"
   ]
  }
 ],
 "metadata": {
  "kernelspec": {
   "display_name": "Python 3 (ipykernel)",
   "language": "python",
   "name": "python3"
  },
  "language_info": {
   "codemirror_mode": {
    "name": "ipython",
    "version": 3
   },
   "file_extension": ".py",
   "mimetype": "text/x-python",
   "name": "python",
   "nbconvert_exporter": "python",
   "pygments_lexer": "ipython3",
   "version": "3.7.13"
  }
 },
 "nbformat": 4,
 "nbformat_minor": 5
}
