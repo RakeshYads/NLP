{
 "cells": [
  {
   "cell_type": "code",
   "execution_count": 2,
   "id": "039d1555",
   "metadata": {},
   "outputs": [],
   "source": [
    "person = \"Rakesh\""
   ]
  },
  {
   "cell_type": "code",
   "execution_count": 3,
   "id": "b9e9bd44",
   "metadata": {},
   "outputs": [
    {
     "name": "stdout",
     "output_type": "stream",
     "text": [
      "My name is Rakesh\n"
     ]
    }
   ],
   "source": [
    "print(\"My name is {}\".format(person))"
   ]
  },
  {
   "cell_type": "markdown",
   "id": "eb428e9b",
   "metadata": {},
   "source": [
    "f-string"
   ]
  },
  {
   "cell_type": "code",
   "execution_count": 4,
   "id": "6d031555",
   "metadata": {},
   "outputs": [
    {
     "name": "stdout",
     "output_type": "stream",
     "text": [
      "My name is Rakesh\n"
     ]
    }
   ],
   "source": [
    "print(f\"My name is {person}\")"
   ]
  },
  {
   "cell_type": "markdown",
   "id": "274a6643",
   "metadata": {},
   "source": [
    "Python Operations with F-string"
   ]
  },
  {
   "cell_type": "code",
   "execution_count": 5,
   "id": "e5e6d662",
   "metadata": {},
   "outputs": [
    {
     "name": "stdout",
     "output_type": "stream",
     "text": [
      "My number is 123\n",
      "My number is 0\n"
     ]
    }
   ],
   "source": [
    "d = {'a':123,'b':456}\n",
    "mylist = [0,1,2,3]\n",
    "print(f\"My number is {d['a']}\")\n",
    "print(f\"My number is {mylist[0]}\")"
   ]
  },
  {
   "cell_type": "code",
   "execution_count": 6,
   "id": "a9130aa9",
   "metadata": {},
   "outputs": [],
   "source": [
    "library = [('Author', 'Topic', 'Pages'), ('Twain', 'Rafting', 601), ('Feynman', 'Physics', 95), ('Hamilton', 'Mythology', 144)]"
   ]
  },
  {
   "cell_type": "code",
   "execution_count": 7,
   "id": "55856f0e",
   "metadata": {},
   "outputs": [
    {
     "data": {
      "text/plain": [
       "[('Author', 'Topic', 'Pages'),\n",
       " ('Twain', 'Rafting', 601),\n",
       " ('Feynman', 'Physics', 95),\n",
       " ('Hamilton', 'Mythology', 144)]"
      ]
     },
     "execution_count": 7,
     "metadata": {},
     "output_type": "execute_result"
    }
   ],
   "source": [
    "library"
   ]
  },
  {
   "cell_type": "code",
   "execution_count": 11,
   "id": "d9639b7d",
   "metadata": {},
   "outputs": [
    {
     "name": "stdout",
     "output_type": "stream",
     "text": [
      "Author,Topic,Pages\n",
      "Twain,Rafting,601\n",
      "Feynman,Physics,95\n",
      "Hamilton,Mythology,144\n",
      "\n",
      "\n",
      "Author Topic Pages\n",
      "Twain Rafting 601\n",
      "Feynman Physics 95\n",
      "Hamilton Mythology 144\n"
     ]
    }
   ],
   "source": [
    "#Tuple Unpacking\n",
    "for author,topic,pages in library:\n",
    "    print(f\"{author},{topic},{pages}\")\n",
    "    \n",
    "print(\"\\n\")    \n",
    "for author,topic,pages in library:\n",
    "    print(f\"{author} {topic} {pages}\")"
   ]
  },
  {
   "cell_type": "code",
   "execution_count": 12,
   "id": "5655dc85",
   "metadata": {},
   "outputs": [],
   "source": [
    "library = [('Author', 'Topic', 'Pages'), ('Twain', 'Rafting in the water', 601), ('Feynman', 'Physics', 95), ('Hamilton', 'Mythology', 144)]"
   ]
  },
  {
   "cell_type": "code",
   "execution_count": 18,
   "id": "e7b56a27",
   "metadata": {},
   "outputs": [
    {
     "name": "stdout",
     "output_type": "stream",
     "text": [
      "Author Topic Pages\n",
      "Twain Rafting in the water 601\n",
      "Feynman Physics 95\n",
      "Hamilton Mythology 144\n",
      "\n",
      "\n",
      "Author     Topic                          Pages               \n",
      "Twain      Rafting in the water                            601\n",
      "Feynman    Physics                                          95\n",
      "Hamilton   Mythology                                       144\n",
      "\n",
      "\n",
      "Author     Topic                                         Pages\n",
      "Twain      Rafting in the water                            601\n",
      "Feynman    Physics                                          95\n",
      "Hamilton   Mythology                                       144\n",
      "\n",
      "\n",
      "Author     Topic                          ...............Pages\n",
      "Twain      Rafting in the water           .................601\n",
      "Feynman    Physics                        ..................95\n",
      "Hamilton   Mythology                      .................144\n"
     ]
    }
   ],
   "source": [
    "for author,topic,pages in library:\n",
    "    print(f\"{author} {topic} {pages}\")\n",
    "print(\"\\n\")\n",
    "#It can be seen that the output is not formatted properly\n",
    "for author,topic,pages in library:\n",
    "    print(f\"{author:{10}} {topic:{30}} {pages:{20}}\")\n",
    "#Pages column is not formatted properly. It's due to variable type. Pages is a string and whereas 601,95,144 are numbers\n",
    "print(\"\\n\")\n",
    "for author,topic,pages in library:\n",
    "    print(f\"{author:{10}} {topic:{30}} {pages:>{20}}\")\n",
    "print(\"\\n\")\n",
    "#We can do padding as well.\n",
    "for author,topic,pages in library:\n",
    "    print(f\"{author:{10}} {topic:{30}} {pages:.>{20}}\")"
   ]
  },
  {
   "cell_type": "code",
   "execution_count": 24,
   "id": "25e21f9a",
   "metadata": {},
   "outputs": [
    {
     "name": "stdout",
     "output_type": "stream",
     "text": [
      "2022-06-07 00:00:00\n"
     ]
    },
    {
     "data": {
      "text/plain": [
       "datetime.datetime(2022, 6, 7, 0, 0)"
      ]
     },
     "execution_count": 24,
     "metadata": {},
     "output_type": "execute_result"
    }
   ],
   "source": [
    "from datetime import datetime\n",
    "today = datetime(year=2022,month=6,day=7)\n",
    "print(f\"{today}\")\n",
    "today"
   ]
  },
  {
   "cell_type": "markdown",
   "id": "740ca09c",
   "metadata": {},
   "source": [
    "***Date Formatting***\n",
    "\n",
    "https://strftime.org/"
   ]
  },
  {
   "cell_type": "code",
   "execution_count": 27,
   "id": "ef6ac5bb",
   "metadata": {},
   "outputs": [
    {
     "name": "stdout",
     "output_type": "stream",
     "text": [
      "June 07\n",
      "June 07, 2022\n"
     ]
    }
   ],
   "source": [
    "print(f\"{today:%B %d}\")\n",
    "print(f\"{today:%B %d, %Y}\")"
   ]
  }
 ],
 "metadata": {
  "kernelspec": {
   "display_name": "Python 3 (ipykernel)",
   "language": "python",
   "name": "python3"
  },
  "language_info": {
   "codemirror_mode": {
    "name": "ipython",
    "version": 3
   },
   "file_extension": ".py",
   "mimetype": "text/x-python",
   "name": "python",
   "nbconvert_exporter": "python",
   "pygments_lexer": "ipython3",
   "version": "3.7.13"
  }
 },
 "nbformat": 4,
 "nbformat_minor": 5
}
