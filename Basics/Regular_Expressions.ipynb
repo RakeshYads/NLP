{
 "cells": [
  {
   "cell_type": "code",
   "execution_count": 1,
   "id": "317940f4",
   "metadata": {},
   "outputs": [],
   "source": [
    "import re"
   ]
  },
  {
   "cell_type": "code",
   "execution_count": 2,
   "id": "a701b94f",
   "metadata": {},
   "outputs": [],
   "source": [
    "text = \"The phone number of the broker is 444-555-6666. Waiting for your call!!\""
   ]
  },
  {
   "cell_type": "code",
   "execution_count": 3,
   "id": "11ad4934",
   "metadata": {},
   "outputs": [
    {
     "data": {
      "text/plain": [
       "True"
      ]
     },
     "execution_count": 3,
     "metadata": {},
     "output_type": "execute_result"
    }
   ],
   "source": [
    "'phone' in text"
   ]
  },
  {
   "cell_type": "code",
   "execution_count": 4,
   "id": "8d70319d",
   "metadata": {},
   "outputs": [
    {
     "data": {
      "text/plain": [
       "True"
      ]
     },
     "execution_count": 4,
     "metadata": {},
     "output_type": "execute_result"
    }
   ],
   "source": [
    "'444-555-6666' in text"
   ]
  },
  {
   "cell_type": "code",
   "execution_count": 5,
   "id": "9acecef6",
   "metadata": {},
   "outputs": [
    {
     "data": {
      "text/plain": [
       "<re.Match object; span=(4, 9), match='phone'>"
      ]
     },
     "execution_count": 5,
     "metadata": {},
     "output_type": "execute_result"
    }
   ],
   "source": [
    "#Now suppose we don't know about pattern\n",
    "pattern = 'phone'\n",
    "re.search(pattern,text)"
   ]
  },
  {
   "cell_type": "code",
   "execution_count": 6,
   "id": "ced65893",
   "metadata": {},
   "outputs": [
    {
     "data": {
      "text/plain": [
       "(4, 9)"
      ]
     },
     "execution_count": 6,
     "metadata": {},
     "output_type": "execute_result"
    }
   ],
   "source": [
    "pattern = 'phone'\n",
    "mymatch = re.search(pattern,text)\n",
    "mymatch.span()"
   ]
  },
  {
   "cell_type": "code",
   "execution_count": 7,
   "id": "7a52f9e3",
   "metadata": {},
   "outputs": [
    {
     "data": {
      "text/plain": [
       "4"
      ]
     },
     "execution_count": 7,
     "metadata": {},
     "output_type": "execute_result"
    }
   ],
   "source": [
    "mymatch.start()"
   ]
  },
  {
   "cell_type": "code",
   "execution_count": 8,
   "id": "29d5b603",
   "metadata": {},
   "outputs": [
    {
     "data": {
      "text/plain": [
       "9"
      ]
     },
     "execution_count": 8,
     "metadata": {},
     "output_type": "execute_result"
    }
   ],
   "source": [
    "mymatch.end()"
   ]
  },
  {
   "cell_type": "code",
   "execution_count": 9,
   "id": "015713b2",
   "metadata": {},
   "outputs": [
    {
     "data": {
      "text/plain": [
       "<re.Match object; span=(3, 8), match='phone'>"
      ]
     },
     "execution_count": 9,
     "metadata": {},
     "output_type": "execute_result"
    }
   ],
   "source": [
    "text1 = \"My phone is a new phone.\"\n",
    "re.search(pattern,text1)\n",
    "#It gives only match and span for 1st occurence of pattern."
   ]
  },
  {
   "cell_type": "code",
   "execution_count": 10,
   "id": "7fd0a6a2",
   "metadata": {},
   "outputs": [
    {
     "data": {
      "text/plain": [
       "['phone', 'phone']"
      ]
     },
     "execution_count": 10,
     "metadata": {},
     "output_type": "execute_result"
    }
   ],
   "source": [
    "#If we want to get all strings, then need to use findall()\n",
    "re.findall(pattern,text1)"
   ]
  },
  {
   "cell_type": "code",
   "execution_count": 11,
   "id": "44810a9a",
   "metadata": {},
   "outputs": [
    {
     "data": {
      "text/plain": [
       "2"
      ]
     },
     "execution_count": 11,
     "metadata": {},
     "output_type": "execute_result"
    }
   ],
   "source": [
    "#findall gives list ony\n",
    "myphone = re.findall(pattern,text1)\n",
    "len(myphone)"
   ]
  },
  {
   "cell_type": "code",
   "execution_count": 13,
   "id": "2c5cbf64",
   "metadata": {},
   "outputs": [
    {
     "name": "stdout",
     "output_type": "stream",
     "text": [
      "(3, 8)\n",
      "3\n",
      "(18, 23)\n",
      "18\n"
     ]
    }
   ],
   "source": [
    "#to get the span of the strings, we will use below code\n",
    "for i in re.finditer(pattern,text1):\n",
    "    print(i.span())\n",
    "    print(i.start())"
   ]
  },
  {
   "cell_type": "code",
   "execution_count": 17,
   "id": "e54ff5ab",
   "metadata": {},
   "outputs": [
    {
     "data": {
      "text/plain": [
       "<re.Match object; span=(34, 46), match='444-555-6666'>"
      ]
     },
     "execution_count": 17,
     "metadata": {},
     "output_type": "execute_result"
    }
   ],
   "source": [
    "#Now let's dive into general patterns\n",
    "pattern = r'\\d\\d\\d-\\d\\d\\d-\\d\\d\\d\\d'\n",
    "phone_no = re.search(pattern,text)\n",
    "phone_no"
   ]
  },
  {
   "cell_type": "code",
   "execution_count": 18,
   "id": "6d1403b8",
   "metadata": {},
   "outputs": [
    {
     "data": {
      "text/plain": [
       "'444-555-6666'"
      ]
     },
     "execution_count": 18,
     "metadata": {},
     "output_type": "execute_result"
    }
   ],
   "source": [
    "phone_no.group()"
   ]
  },
  {
   "cell_type": "code",
   "execution_count": 19,
   "id": "fa9fba1b",
   "metadata": {},
   "outputs": [
    {
     "data": {
      "text/plain": [
       "'444-555-6666'"
      ]
     },
     "execution_count": 19,
     "metadata": {},
     "output_type": "execute_result"
    }
   ],
   "source": [
    "pattern = r'\\d{3}-\\d{3}-\\d{4}'\n",
    "phone_no = re.search(pattern,text)\n",
    "phone_no.group()"
   ]
  },
  {
   "cell_type": "code",
   "execution_count": 22,
   "id": "25a6967b",
   "metadata": {},
   "outputs": [
    {
     "data": {
      "text/plain": [
       "'555-6666'"
      ]
     },
     "execution_count": 22,
     "metadata": {},
     "output_type": "execute_result"
    }
   ],
   "source": [
    "pattern = r'(\\d{3})-(\\d{3}-\\d{4})'\n",
    "phone_no = re.search(pattern,text)\n",
    "phone_no.group(2)"
   ]
  },
  {
   "cell_type": "code",
   "execution_count": 23,
   "id": "75f4611c",
   "metadata": {},
   "outputs": [
    {
     "data": {
      "text/plain": [
       "<re.Match object; span=(5, 10), match='woman'>"
      ]
     },
     "execution_count": 23,
     "metadata": {},
     "output_type": "execute_result"
    }
   ],
   "source": [
    "re.search(r'man|woman','This woman is here.')"
   ]
  },
  {
   "cell_type": "code",
   "execution_count": 24,
   "id": "555eb77c",
   "metadata": {},
   "outputs": [
    {
     "data": {
      "text/plain": [
       "['cat', 'sat', 'hat']"
      ]
     },
     "execution_count": 24,
     "metadata": {},
     "output_type": "execute_result"
    }
   ],
   "source": [
    "re.findall(r'.at',\"The cat sat on the hat roof.\")"
   ]
  },
  {
   "cell_type": "code",
   "execution_count": 27,
   "id": "8bddf66f",
   "metadata": {},
   "outputs": [
    {
     "data": {
      "text/plain": [
       "[' cat', ' sat', ' hat']"
      ]
     },
     "execution_count": 27,
     "metadata": {},
     "output_type": "execute_result"
    }
   ],
   "source": [
    "re.findall(r'..at',\"The cat sat on the hat roof.\")"
   ]
  },
  {
   "cell_type": "code",
   "execution_count": 29,
   "id": "59b0aee8",
   "metadata": {},
   "outputs": [
    {
     "data": {
      "text/plain": [
       "['This',\n",
       " 'is',\n",
       " 'a',\n",
       " 'String',\n",
       " 'But',\n",
       " 'it',\n",
       " 'has',\n",
       " 'punchtuation.',\n",
       " 'What',\n",
       " 'to',\n",
       " 'do',\n",
       " 'now']"
      ]
     },
     "execution_count": 29,
     "metadata": {},
     "output_type": "execute_result"
    }
   ],
   "source": [
    "test_phrase = 'This is a String! But it has punchtuation. What to do now?'\n",
    "re.findall(r'[^!? ]+',test_phrase)"
   ]
  },
  {
   "cell_type": "code",
   "execution_count": 30,
   "id": "d148497e",
   "metadata": {},
   "outputs": [
    {
     "data": {
      "text/plain": [
       "'This is a String But it has punchtuation. What to do now'"
      ]
     },
     "execution_count": 30,
     "metadata": {},
     "output_type": "execute_result"
    }
   ],
   "source": [
    "mylist = re.findall(r'[^!? ]+',test_phrase)\n",
    "' '.join(mylist)"
   ]
  }
 ],
 "metadata": {
  "kernelspec": {
   "display_name": "Python 3 (ipykernel)",
   "language": "python",
   "name": "python3"
  },
  "language_info": {
   "codemirror_mode": {
    "name": "ipython",
    "version": 3
   },
   "file_extension": ".py",
   "mimetype": "text/x-python",
   "name": "python",
   "nbconvert_exporter": "python",
   "pygments_lexer": "ipython3",
   "version": "3.7.13"
  }
 },
 "nbformat": 4,
 "nbformat_minor": 5
}
