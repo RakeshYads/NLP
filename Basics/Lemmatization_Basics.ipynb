{
 "cells": [
  {
   "cell_type": "code",
   "execution_count": 2,
   "id": "67b4c183",
   "metadata": {},
   "outputs": [],
   "source": [
    "import spacy\n",
    "nlp = spacy.load('en_core_web_sm')"
   ]
  },
  {
   "cell_type": "code",
   "execution_count": 3,
   "id": "dbd7c1e4",
   "metadata": {},
   "outputs": [],
   "source": [
    "doc  = nlp(u'I\\'m a lazy person. I don\\'t like to do work in a hard way. I always prefer best approach for a task. So no rework is required while working on a particluar task. Most technical people looks for a approach that makes the work done in a smarter way.')"
   ]
  },
  {
   "cell_type": "code",
   "execution_count": 5,
   "id": "a20fecb7",
   "metadata": {},
   "outputs": [
    {
     "name": "stdout",
     "output_type": "stream",
     "text": [
      "I \t PRON \t 561228191312463089 \t -PRON-\n",
      "'m \t VERB \t 10382539506755952630 \t be\n",
      "a \t DET \t 11901859001352538922 \t a\n",
      "lazy \t ADJ \t 8463806658378306174 \t lazy\n",
      "person \t NOUN \t 14800503047316267216 \t person\n",
      ". \t PUNCT \t 12646065887601541794 \t .\n",
      "I \t PRON \t 561228191312463089 \t -PRON-\n",
      "do \t VERB \t 2158845516055552166 \t do\n",
      "n't \t ADV \t 447765159362469301 \t not\n",
      "like \t VERB \t 18194338103975822726 \t like\n",
      "to \t PART \t 3791531372978436496 \t to\n",
      "do \t VERB \t 2158845516055552166 \t do\n",
      "work \t NOUN \t 10038440415813069799 \t work\n",
      "in \t ADP \t 3002984154512732771 \t in\n",
      "a \t DET \t 11901859001352538922 \t a\n",
      "hard \t ADJ \t 5791351258821946298 \t hard\n",
      "way \t NOUN \t 6878210874361030284 \t way\n",
      ". \t PUNCT \t 12646065887601541794 \t .\n",
      "I \t PRON \t 561228191312463089 \t -PRON-\n",
      "always \t ADV \t 17471638809377599778 \t always\n",
      "prefer \t VERB \t 586898968207651898 \t prefer\n",
      "best \t ADJ \t 5711639017775284443 \t good\n",
      "approach \t NOUN \t 13730216158190965 \t approach\n",
      "for \t ADP \t 16037325823156266367 \t for\n",
      "a \t DET \t 11901859001352538922 \t a\n",
      "task \t NOUN \t 1048061966900118739 \t task\n",
      ". \t PUNCT \t 12646065887601541794 \t .\n",
      "So \t ADV \t 9781598966686434415 \t so\n",
      "no \t DET \t 13055779130471031426 \t no\n",
      "rework \t NOUN \t 13222473778970679781 \t rework\n",
      "is \t VERB \t 10382539506755952630 \t be\n",
      "required \t VERB \t 9094995078650759376 \t require\n",
      "while \t ADP \t 1039541750886098100 \t while\n",
      "working \t VERB \t 10038440415813069799 \t work\n",
      "on \t ADP \t 5640369432778651323 \t on\n",
      "a \t DET \t 11901859001352538922 \t a\n",
      "particluar \t NOUN \t 3793953869893263234 \t particluar\n",
      "task \t NOUN \t 1048061966900118739 \t task\n",
      ". \t PUNCT \t 12646065887601541794 \t .\n",
      "Most \t ADJ \t 11104729984170784471 \t most\n",
      "technical \t ADJ \t 8300455124106275346 \t technical\n",
      "people \t NOUN \t 7593739049417968140 \t people\n",
      "looks \t VERB \t 16096726548953279178 \t look\n",
      "for \t ADP \t 16037325823156266367 \t for\n",
      "a \t DET \t 11901859001352538922 \t a\n",
      "approach \t NOUN \t 13730216158190965 \t approach\n",
      "that \t ADJ \t 4380130941430378203 \t that\n",
      "makes \t VERB \t 9614445426764226664 \t make\n",
      "the \t DET \t 7425985699627899538 \t the\n",
      "work \t NOUN \t 10038440415813069799 \t work\n",
      "done \t VERB \t 2158845516055552166 \t do\n",
      "in \t ADP \t 3002984154512732771 \t in\n",
      "a \t DET \t 11901859001352538922 \t a\n",
      "smarter \t ADJ \t 2191600787884973499 \t smart\n",
      "way \t NOUN \t 6878210874361030284 \t way\n",
      ". \t PUNCT \t 12646065887601541794 \t .\n"
     ]
    }
   ],
   "source": [
    "for token in doc:\n",
    "    print(token.text,'\\t',token.pos_,'\\t',token.lemma,'\\t',token.lemma_)\n",
    "    #en_core_web_sm - this is acting as a hash table for bunch of lemmas"
   ]
  }
 ],
 "metadata": {
  "kernelspec": {
   "display_name": "Python 3 (ipykernel)",
   "language": "python",
   "name": "python3"
  },
  "language_info": {
   "codemirror_mode": {
    "name": "ipython",
    "version": 3
   },
   "file_extension": ".py",
   "mimetype": "text/x-python",
   "name": "python",
   "nbconvert_exporter": "python",
   "pygments_lexer": "ipython3",
   "version": "3.7.13"
  }
 },
 "nbformat": 4,
 "nbformat_minor": 5
}
