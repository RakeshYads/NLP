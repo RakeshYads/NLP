{
 "cells": [
  {
   "cell_type": "code",
   "execution_count": 1,
   "id": "b42726da",
   "metadata": {},
   "outputs": [],
   "source": [
    "import spacy"
   ]
  },
  {
   "cell_type": "code",
   "execution_count": 2,
   "id": "dbf53f1d",
   "metadata": {},
   "outputs": [],
   "source": [
    "nlp = spacy.load('en_core_web_sm')"
   ]
  },
  {
   "cell_type": "code",
   "execution_count": 3,
   "id": "b96955c7",
   "metadata": {},
   "outputs": [
    {
     "name": "stdout",
     "output_type": "stream",
     "text": [
      "{'many', 'am', 'the', 'perhaps', 'hundred', 'thereupon', 'or', 'too', 'again', 'hereupon', 'why', 'himself', 'indeed', 'eleven', 'however', 'had', 'to', 'between', 'one', 'an', 'does', 'although', 'least', 'into', 'meanwhile', 'not', 'towards', 'ours', 'these', 'may', 'our', 'together', 'wherein', 'while', 'back', 'amongst', 'if', 'here', 'own', 'therein', 'throughout', 'get', 'top', 'see', 'should', 'mine', 'at', 'everything', 'still', 'across', 'move', 'twenty', 'hence', 'below', 'its', 'put', 'what', 'also', 'using', 'already', 'me', 'them', 'alone', 'nor', 'since', 'than', 'was', 'thereafter', 'sixty', 'their', 'third', 'always', 'that', 'has', 'few', 'just', 'as', 'down', 'both', 'my', 'somehow', 'whence', 'anywhere', 'so', 'she', 'nevertheless', 'therefore', 'same', 'besides', 'hereby', 'other', 'though', 'will', 'each', 'becoming', 'nine', 'us', 'name', 'beyond', 'then', 'along', 'empty', 'cannot', 're', 'next', 'anyhow', 'latterly', 'itself', 'either', 'call', 'from', 'someone', 'now', 'five', 'often', 'make', 'whereupon', 'wherever', 'thus', 'thence', 'up', 'her', 'namely', 'might', 'of', 'which', 'hereafter', 'most', 'becomes', 'much', 'ten', 'whenever', 'have', 'who', 'anything', 'last', 'among', 'twelve', 'various', 'keep', 'everyone', 'side', 'whereas', 'others', 'eight', 'a', 'another', 'no', 'being', 'been', 'full', 'behind', 'really', 'except', 'whereafter', 'yet', 'seemed', 'off', 'afterwards', 'four', 'anyway', 'do', 'there', 'yours', 'anyone', 'myself', 'fifteen', 'with', 'three', 'above', 'amount', 'whom', 'because', 'ever', 'were', 'your', 'almost', 'take', 'seeming', 'after', 'unless', 'less', 'would', 'otherwise', 'are', 'everywhere', 'rather', 'they', 'latter', 'you', 'two', 'become', 'even', 'sometimes', 'him', 'out', 'beside', 'toward', 'first', 'whereby', 'could', 'and', 'made', 'something', 'due', 'moreover', 'used', 'nothing', 'his', 'six', 'nowhere', 'during', 'per', 'please', 'herself', 'thereby', 'without', 'yourselves', 'show', 'whither', 'bottom', 'when', 'every', 'until', 'via', 'mostly', 'once', 'against', 'serious', 'this', 'done', 'none', 'former', 'within', 'whatever', 'he', 'about', 'ca', 'all', 'front', 'those', 'where', 'beforehand', 'but', 'by', 'enough', 'hers', 'for', 'on', 'only', 'themselves', 'through', 'be', 'formerly', 'go', 'doing', 'never', 'part', 'quite', 'seems', 'how', 'several', 'herein', 'around', 'onto', 'any', 'became', 'i', 'it', 'regarding', 'nobody', 'upon', 'over', 'well', 'whether', 'thru', 'yourself', 'did', 'ourselves', 'we', 'whole', 'further', 'somewhere', 'can', 'neither', 'noone', 'in', 'sometime', 'more', 'very', 'say', 'forty', 'before', 'whoever', 'under', 'such', 'whose', 'some', 'fifty', 'give', 'seem', 'elsewhere', 'is', 'must', 'else'}\n"
     ]
    }
   ],
   "source": [
    "print(nlp.Defaults.stop_words)"
   ]
  },
  {
   "cell_type": "code",
   "execution_count": 4,
   "id": "528cc0ec",
   "metadata": {},
   "outputs": [
    {
     "data": {
      "text/plain": [
       "305"
      ]
     },
     "execution_count": 4,
     "metadata": {},
     "output_type": "execute_result"
    }
   ],
   "source": [
    "len(nlp.Defaults.stop_words)"
   ]
  },
  {
   "cell_type": "code",
   "execution_count": 5,
   "id": "706fd19f",
   "metadata": {},
   "outputs": [
    {
     "data": {
      "text/plain": [
       "<spacy.lexeme.Lexeme at 0x20e2d6967c8>"
      ]
     },
     "execution_count": 5,
     "metadata": {},
     "output_type": "execute_result"
    }
   ],
   "source": [
    "nlp.vocab['is']"
   ]
  },
  {
   "cell_type": "code",
   "execution_count": 6,
   "id": "4a190c31",
   "metadata": {},
   "outputs": [
    {
     "data": {
      "text/plain": [
       "True"
      ]
     },
     "execution_count": 6,
     "metadata": {},
     "output_type": "execute_result"
    }
   ],
   "source": [
    "nlp.vocab['is'].is_stop"
   ]
  },
  {
   "cell_type": "code",
   "execution_count": 7,
   "id": "5c32a55b",
   "metadata": {},
   "outputs": [],
   "source": [
    "nlp.Defaults.stop_words.add('BTW')"
   ]
  },
  {
   "cell_type": "code",
   "execution_count": 8,
   "id": "af6d44ea",
   "metadata": {},
   "outputs": [
    {
     "data": {
      "text/plain": [
       "False"
      ]
     },
     "execution_count": 8,
     "metadata": {},
     "output_type": "execute_result"
    }
   ],
   "source": [
    "nlp.vocab['BTW'].is_stop"
   ]
  },
  {
   "cell_type": "code",
   "execution_count": 9,
   "id": "cfb12658",
   "metadata": {},
   "outputs": [
    {
     "data": {
      "text/plain": [
       "306"
      ]
     },
     "execution_count": 9,
     "metadata": {},
     "output_type": "execute_result"
    }
   ],
   "source": [
    "len(nlp.Defaults.stop_words)"
   ]
  },
  {
   "cell_type": "code",
   "execution_count": 10,
   "id": "6b3c333a",
   "metadata": {},
   "outputs": [],
   "source": [
    "nlp.vocab['BTW'].is_stop = True"
   ]
  },
  {
   "cell_type": "code",
   "execution_count": 11,
   "id": "70874dc4",
   "metadata": {},
   "outputs": [
    {
     "data": {
      "text/plain": [
       "True"
      ]
     },
     "execution_count": 11,
     "metadata": {},
     "output_type": "execute_result"
    }
   ],
   "source": [
    "nlp.vocab['BTW'].is_stop"
   ]
  },
  {
   "cell_type": "code",
   "execution_count": 12,
   "id": "b0cf6764",
   "metadata": {},
   "outputs": [],
   "source": [
    "nlp.Defaults.stop_words.remove('beyond')"
   ]
  },
  {
   "cell_type": "code",
   "execution_count": 13,
   "id": "9d0f92ca",
   "metadata": {},
   "outputs": [
    {
     "data": {
      "text/plain": [
       "305"
      ]
     },
     "execution_count": 13,
     "metadata": {},
     "output_type": "execute_result"
    }
   ],
   "source": [
    "len(nlp.Defaults.stop_words)"
   ]
  },
  {
   "cell_type": "code",
   "execution_count": 16,
   "id": "d45e91df",
   "metadata": {},
   "outputs": [],
   "source": [
    "nlp.vocab['beyond'].is_stop = False"
   ]
  },
  {
   "cell_type": "code",
   "execution_count": 17,
   "id": "2018c0e8",
   "metadata": {},
   "outputs": [
    {
     "data": {
      "text/plain": [
       "False"
      ]
     },
     "execution_count": 17,
     "metadata": {},
     "output_type": "execute_result"
    }
   ],
   "source": [
    "nlp.vocab['beyond'].is_stop"
   ]
  }
 ],
 "metadata": {
  "kernelspec": {
   "display_name": "Python 3 (ipykernel)",
   "language": "python",
   "name": "python3"
  },
  "language_info": {
   "codemirror_mode": {
    "name": "ipython",
    "version": 3
   },
   "file_extension": ".py",
   "mimetype": "text/x-python",
   "name": "python",
   "nbconvert_exporter": "python",
   "pygments_lexer": "ipython3",
   "version": "3.7.13"
  }
 },
 "nbformat": 4,
 "nbformat_minor": 5
}
