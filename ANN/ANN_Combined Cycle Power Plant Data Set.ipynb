{
 "cells": [
  {
   "cell_type": "markdown",
   "metadata": {},
   "source": [
    "# Artificial Neural Network - Combined Cycle Power Plant"
   ]
  },
  {
   "cell_type": "markdown",
   "metadata": {},
   "source": [
    "### Description: \n",
    "This dataset consists of below attributes. Need to create a model which will predict net hourly electrical energy output. By looking into the dataset, it can be said that linear regression need to be applied as : EP = a + b1.T + b2.AP + b3.RH + b4.V + e\n",
    "\n",
    "#### Attribute Information:\n",
    "\n",
    "Features consist of hourly average ambient variables\n",
    "- Temperature (T) in the range 1.81°C and 37.11°C,\n",
    "- Ambient Pressure (AP) in the range 992.89-1033.30 milibar,\n",
    "- Relative Humidity (RH) in the range 25.56% to 100.16%\n",
    "- Exhaust Vacuum (V) in teh range 25.36-81.56 cm Hg\n",
    "- Net hourly electrical energy output (EP) 420.26-495.76 MW"
   ]
  },
  {
   "cell_type": "markdown",
   "metadata": {},
   "source": [
    "## Part-1: Importing Libraries"
   ]
  },
  {
   "cell_type": "code",
   "execution_count": 1,
   "metadata": {},
   "outputs": [],
   "source": [
    "import numpy as np\n",
    "import pandas as pd\n",
    "import tensorflow as tf\n",
    "from sklearn.model_selection import train_test_split\n",
    "import matplotlib.pyplot as plt\n",
    "%matplotlib inline"
   ]
  },
  {
   "cell_type": "markdown",
   "metadata": {},
   "source": [
    "## Part-2: Pre-processing the data"
   ]
  },
  {
   "cell_type": "markdown",
   "metadata": {},
   "source": [
    "#### Reading/Importing the file"
   ]
  },
  {
   "cell_type": "code",
   "execution_count": 2,
   "metadata": {},
   "outputs": [
    {
     "ename": "SyntaxError",
     "evalue": "(unicode error) 'unicodeescape' codec can't decode bytes in position 2-3: truncated \\UXXXXXXXX escape (<ipython-input-2-a36a9af8b243>, line 1)",
     "output_type": "error",
     "traceback": [
      "\u001b[1;36m  File \u001b[1;32m\"<ipython-input-2-a36a9af8b243>\"\u001b[1;36m, line \u001b[1;32m1\u001b[0m\n\u001b[1;33m    df = pd.read_excel('C:\\Users\\rakes\\Documents\\Deep_Learning\\Practise\\ANN\\Artificial_Neural_Network\\Final Folder\\Dataset\\Power_plant.xlsx')\u001b[0m\n\u001b[1;37m                      ^\u001b[0m\n\u001b[1;31mSyntaxError\u001b[0m\u001b[1;31m:\u001b[0m (unicode error) 'unicodeescape' codec can't decode bytes in position 2-3: truncated \\UXXXXXXXX escape\n"
     ]
    }
   ],
   "source": [
    "df = pd.read_excel('C:\\Users\\rakes\\Documents\\Deep_Learning\\Practise\\ANN\\Artificial_Neural_Network\\Final Folder\\Dataset\\Power_plant.xlsx')"
   ]
  },
  {
   "cell_type": "markdown",
   "metadata": {},
   "source": [
    "#### Error Solution:\n",
    "1: Just put r before your normal string it converts normal string to raw string: pandas.read_csv(r\"C:\\Users\\DeePak\\Desktop\\myac.csv\")\n",
    "\n",
    "2: pandas.read_csv(\"C:/Users/DeePak/Desktop/myac.csv\")\n",
    "\n",
    "3: pandas.read_csv(\"C:\\\\Users\\\\DeePak\\\\Desktop\\\\myac.csv\")\n"
   ]
  },
  {
   "cell_type": "code",
   "execution_count": 3,
   "metadata": {},
   "outputs": [],
   "source": [
    "df = pd.read_excel(r'C:\\Users\\rakes\\Documents\\Deep_Learning\\Practise\\ANN\\Artificial_Neural_Network\\Final Folder\\Dataset\\Power_plant.xlsx')"
   ]
  },
  {
   "cell_type": "code",
   "execution_count": 4,
   "metadata": {},
   "outputs": [
    {
     "data": {
      "text/plain": [
       "pandas.core.frame.DataFrame"
      ]
     },
     "execution_count": 4,
     "metadata": {},
     "output_type": "execute_result"
    }
   ],
   "source": [
    "type(df)"
   ]
  },
  {
   "cell_type": "code",
   "execution_count": 5,
   "metadata": {},
   "outputs": [
    {
     "data": {
      "text/html": [
       "<div>\n",
       "<style scoped>\n",
       "    .dataframe tbody tr th:only-of-type {\n",
       "        vertical-align: middle;\n",
       "    }\n",
       "\n",
       "    .dataframe tbody tr th {\n",
       "        vertical-align: top;\n",
       "    }\n",
       "\n",
       "    .dataframe thead th {\n",
       "        text-align: right;\n",
       "    }\n",
       "</style>\n",
       "<table border=\"1\" class=\"dataframe\">\n",
       "  <thead>\n",
       "    <tr style=\"text-align: right;\">\n",
       "      <th></th>\n",
       "      <th>AT</th>\n",
       "      <th>V</th>\n",
       "      <th>AP</th>\n",
       "      <th>RH</th>\n",
       "      <th>PE</th>\n",
       "    </tr>\n",
       "  </thead>\n",
       "  <tbody>\n",
       "    <tr>\n",
       "      <th>0</th>\n",
       "      <td>14.96</td>\n",
       "      <td>41.76</td>\n",
       "      <td>1024.07</td>\n",
       "      <td>73.17</td>\n",
       "      <td>463.26</td>\n",
       "    </tr>\n",
       "    <tr>\n",
       "      <th>1</th>\n",
       "      <td>25.18</td>\n",
       "      <td>62.96</td>\n",
       "      <td>1020.04</td>\n",
       "      <td>59.08</td>\n",
       "      <td>444.37</td>\n",
       "    </tr>\n",
       "    <tr>\n",
       "      <th>2</th>\n",
       "      <td>5.11</td>\n",
       "      <td>39.40</td>\n",
       "      <td>1012.16</td>\n",
       "      <td>92.14</td>\n",
       "      <td>488.56</td>\n",
       "    </tr>\n",
       "    <tr>\n",
       "      <th>3</th>\n",
       "      <td>20.86</td>\n",
       "      <td>57.32</td>\n",
       "      <td>1010.24</td>\n",
       "      <td>76.64</td>\n",
       "      <td>446.48</td>\n",
       "    </tr>\n",
       "    <tr>\n",
       "      <th>4</th>\n",
       "      <td>10.82</td>\n",
       "      <td>37.50</td>\n",
       "      <td>1009.23</td>\n",
       "      <td>96.62</td>\n",
       "      <td>473.90</td>\n",
       "    </tr>\n",
       "    <tr>\n",
       "      <th>5</th>\n",
       "      <td>26.27</td>\n",
       "      <td>59.44</td>\n",
       "      <td>1012.23</td>\n",
       "      <td>58.77</td>\n",
       "      <td>443.67</td>\n",
       "    </tr>\n",
       "    <tr>\n",
       "      <th>6</th>\n",
       "      <td>15.89</td>\n",
       "      <td>43.96</td>\n",
       "      <td>1014.02</td>\n",
       "      <td>75.24</td>\n",
       "      <td>467.35</td>\n",
       "    </tr>\n",
       "    <tr>\n",
       "      <th>7</th>\n",
       "      <td>9.48</td>\n",
       "      <td>44.71</td>\n",
       "      <td>1019.12</td>\n",
       "      <td>66.43</td>\n",
       "      <td>478.42</td>\n",
       "    </tr>\n",
       "    <tr>\n",
       "      <th>8</th>\n",
       "      <td>14.64</td>\n",
       "      <td>45.00</td>\n",
       "      <td>1021.78</td>\n",
       "      <td>41.25</td>\n",
       "      <td>475.98</td>\n",
       "    </tr>\n",
       "    <tr>\n",
       "      <th>9</th>\n",
       "      <td>11.74</td>\n",
       "      <td>43.56</td>\n",
       "      <td>1015.14</td>\n",
       "      <td>70.72</td>\n",
       "      <td>477.50</td>\n",
       "    </tr>\n",
       "  </tbody>\n",
       "</table>\n",
       "</div>"
      ],
      "text/plain": [
       "      AT      V       AP     RH      PE\n",
       "0  14.96  41.76  1024.07  73.17  463.26\n",
       "1  25.18  62.96  1020.04  59.08  444.37\n",
       "2   5.11  39.40  1012.16  92.14  488.56\n",
       "3  20.86  57.32  1010.24  76.64  446.48\n",
       "4  10.82  37.50  1009.23  96.62  473.90\n",
       "5  26.27  59.44  1012.23  58.77  443.67\n",
       "6  15.89  43.96  1014.02  75.24  467.35\n",
       "7   9.48  44.71  1019.12  66.43  478.42\n",
       "8  14.64  45.00  1021.78  41.25  475.98\n",
       "9  11.74  43.56  1015.14  70.72  477.50"
      ]
     },
     "execution_count": 5,
     "metadata": {},
     "output_type": "execute_result"
    }
   ],
   "source": [
    "df.head(10)"
   ]
  },
  {
   "cell_type": "code",
   "execution_count": 19,
   "metadata": {},
   "outputs": [
    {
     "data": {
      "text/plain": [
       "(9568, 5)"
      ]
     },
     "execution_count": 19,
     "metadata": {},
     "output_type": "execute_result"
    }
   ],
   "source": [
    "df.shape"
   ]
  },
  {
   "cell_type": "markdown",
   "metadata": {},
   "source": [
    "#### DataTypes"
   ]
  },
  {
   "cell_type": "code",
   "execution_count": 7,
   "metadata": {},
   "outputs": [
    {
     "name": "stdout",
     "output_type": "stream",
     "text": [
      "<class 'pandas.core.frame.DataFrame'>\n",
      "RangeIndex: 9568 entries, 0 to 9567\n",
      "Data columns (total 5 columns):\n",
      " #   Column  Non-Null Count  Dtype  \n",
      "---  ------  --------------  -----  \n",
      " 0   AT      9568 non-null   float64\n",
      " 1   V       9568 non-null   float64\n",
      " 2   AP      9568 non-null   float64\n",
      " 3   RH      9568 non-null   float64\n",
      " 4   PE      9568 non-null   float64\n",
      "dtypes: float64(5)\n",
      "memory usage: 373.9 KB\n"
     ]
    }
   ],
   "source": [
    "df.info()"
   ]
  },
  {
   "cell_type": "code",
   "execution_count": 8,
   "metadata": {},
   "outputs": [
    {
     "data": {
      "text/plain": [
       "AT     V      AP       RH     PE    \n",
       "7.87   41.17  1020.33  77.77  486.20    2\n",
       "27.64  75.60  1017.35  54.78  441.04    2\n",
       "8.57   41.17  1020.18  72.47  484.20    2\n",
       "9.54   41.17  1019.79  65.61  481.18    2\n",
       "25.79  75.60  1017.46  75.63  434.65    2\n",
       "                                       ..\n",
       "15.42  40.56  1021.23  59.37  469.33    1\n",
       "15.43  38.58  1016.58  81.17  463.44    1\n",
       "       39.16  1016.44  79.80  470.74    1\n",
       "       39.64  1008.58  87.99  464.05    1\n",
       "37.11  68.94  1006.23  31.15  429.25    1\n",
       "Length: 9527, dtype: int64"
      ]
     },
     "execution_count": 8,
     "metadata": {},
     "output_type": "execute_result"
    }
   ],
   "source": [
    "df.value_counts()"
   ]
  },
  {
   "cell_type": "code",
   "execution_count": 28,
   "metadata": {},
   "outputs": [
    {
     "data": {
      "text/plain": [
       "True"
      ]
     },
     "execution_count": 28,
     "metadata": {},
     "output_type": "execute_result"
    }
   ],
   "source": [
    "##remove duplicate values\n",
    "df.duplicated().any()"
   ]
  },
  {
   "cell_type": "code",
   "execution_count": 29,
   "metadata": {},
   "outputs": [
    {
     "data": {
      "text/plain": [
       "41"
      ]
     },
     "execution_count": 29,
     "metadata": {},
     "output_type": "execute_result"
    }
   ],
   "source": [
    "df.duplicated().sum()"
   ]
  },
  {
   "cell_type": "code",
   "execution_count": 30,
   "metadata": {},
   "outputs": [
    {
     "data": {
      "text/html": [
       "<div>\n",
       "<style scoped>\n",
       "    .dataframe tbody tr th:only-of-type {\n",
       "        vertical-align: middle;\n",
       "    }\n",
       "\n",
       "    .dataframe tbody tr th {\n",
       "        vertical-align: top;\n",
       "    }\n",
       "\n",
       "    .dataframe thead th {\n",
       "        text-align: right;\n",
       "    }\n",
       "</style>\n",
       "<table border=\"1\" class=\"dataframe\">\n",
       "  <thead>\n",
       "    <tr style=\"text-align: right;\">\n",
       "      <th></th>\n",
       "      <th>AT</th>\n",
       "      <th>V</th>\n",
       "      <th>AP</th>\n",
       "      <th>RH</th>\n",
       "      <th>PE</th>\n",
       "    </tr>\n",
       "  </thead>\n",
       "  <tbody>\n",
       "    <tr>\n",
       "      <th>2184</th>\n",
       "      <td>9.54</td>\n",
       "      <td>41.17</td>\n",
       "      <td>1019.79</td>\n",
       "      <td>65.61</td>\n",
       "      <td>481.18</td>\n",
       "    </tr>\n",
       "    <tr>\n",
       "      <th>2421</th>\n",
       "      <td>12.11</td>\n",
       "      <td>41.17</td>\n",
       "      <td>1019.46</td>\n",
       "      <td>62.59</td>\n",
       "      <td>475.53</td>\n",
       "    </tr>\n",
       "    <tr>\n",
       "      <th>2577</th>\n",
       "      <td>28.84</td>\n",
       "      <td>75.60</td>\n",
       "      <td>1018.41</td>\n",
       "      <td>53.96</td>\n",
       "      <td>442.69</td>\n",
       "    </tr>\n",
       "    <tr>\n",
       "      <th>2896</th>\n",
       "      <td>27.54</td>\n",
       "      <td>75.60</td>\n",
       "      <td>1018.26</td>\n",
       "      <td>57.89</td>\n",
       "      <td>440.87</td>\n",
       "    </tr>\n",
       "    <tr>\n",
       "      <th>3314</th>\n",
       "      <td>8.07</td>\n",
       "      <td>41.17</td>\n",
       "      <td>1019.40</td>\n",
       "      <td>86.43</td>\n",
       "      <td>484.54</td>\n",
       "    </tr>\n",
       "    <tr>\n",
       "      <th>4236</th>\n",
       "      <td>25.79</td>\n",
       "      <td>75.60</td>\n",
       "      <td>1017.46</td>\n",
       "      <td>75.63</td>\n",
       "      <td>434.65</td>\n",
       "    </tr>\n",
       "    <tr>\n",
       "      <th>4549</th>\n",
       "      <td>11.23</td>\n",
       "      <td>41.17</td>\n",
       "      <td>1019.36</td>\n",
       "      <td>56.85</td>\n",
       "      <td>475.85</td>\n",
       "    </tr>\n",
       "    <tr>\n",
       "      <th>4577</th>\n",
       "      <td>24.63</td>\n",
       "      <td>59.57</td>\n",
       "      <td>1010.45</td>\n",
       "      <td>85.36</td>\n",
       "      <td>440.67</td>\n",
       "    </tr>\n",
       "    <tr>\n",
       "      <th>4667</th>\n",
       "      <td>25.21</td>\n",
       "      <td>75.60</td>\n",
       "      <td>1017.19</td>\n",
       "      <td>69.84</td>\n",
       "      <td>445.84</td>\n",
       "    </tr>\n",
       "    <tr>\n",
       "      <th>5276</th>\n",
       "      <td>25.56</td>\n",
       "      <td>75.60</td>\n",
       "      <td>1017.37</td>\n",
       "      <td>69.31</td>\n",
       "      <td>442.20</td>\n",
       "    </tr>\n",
       "    <tr>\n",
       "      <th>5320</th>\n",
       "      <td>6.03</td>\n",
       "      <td>41.17</td>\n",
       "      <td>1019.81</td>\n",
       "      <td>84.20</td>\n",
       "      <td>488.57</td>\n",
       "    </tr>\n",
       "    <tr>\n",
       "      <th>5467</th>\n",
       "      <td>26.45</td>\n",
       "      <td>75.60</td>\n",
       "      <td>1017.42</td>\n",
       "      <td>74.50</td>\n",
       "      <td>436.89</td>\n",
       "    </tr>\n",
       "    <tr>\n",
       "      <th>5498</th>\n",
       "      <td>6.86</td>\n",
       "      <td>41.17</td>\n",
       "      <td>1020.12</td>\n",
       "      <td>79.14</td>\n",
       "      <td>490.23</td>\n",
       "    </tr>\n",
       "    <tr>\n",
       "      <th>5615</th>\n",
       "      <td>12.00</td>\n",
       "      <td>41.17</td>\n",
       "      <td>1019.48</td>\n",
       "      <td>58.71</td>\n",
       "      <td>474.40</td>\n",
       "    </tr>\n",
       "    <tr>\n",
       "      <th>5828</th>\n",
       "      <td>25.42</td>\n",
       "      <td>75.60</td>\n",
       "      <td>1017.39</td>\n",
       "      <td>77.63</td>\n",
       "      <td>438.24</td>\n",
       "    </tr>\n",
       "    <tr>\n",
       "      <th>5933</th>\n",
       "      <td>25.53</td>\n",
       "      <td>59.57</td>\n",
       "      <td>1010.65</td>\n",
       "      <td>82.04</td>\n",
       "      <td>445.59</td>\n",
       "    </tr>\n",
       "    <tr>\n",
       "      <th>5955</th>\n",
       "      <td>25.91</td>\n",
       "      <td>75.60</td>\n",
       "      <td>1018.23</td>\n",
       "      <td>62.65</td>\n",
       "      <td>443.20</td>\n",
       "    </tr>\n",
       "    <tr>\n",
       "      <th>6008</th>\n",
       "      <td>6.06</td>\n",
       "      <td>41.17</td>\n",
       "      <td>1019.67</td>\n",
       "      <td>84.70</td>\n",
       "      <td>489.62</td>\n",
       "    </tr>\n",
       "    <tr>\n",
       "      <th>6131</th>\n",
       "      <td>6.40</td>\n",
       "      <td>41.17</td>\n",
       "      <td>1019.54</td>\n",
       "      <td>85.37</td>\n",
       "      <td>488.82</td>\n",
       "    </tr>\n",
       "    <tr>\n",
       "      <th>6227</th>\n",
       "      <td>29.23</td>\n",
       "      <td>75.60</td>\n",
       "      <td>1017.72</td>\n",
       "      <td>52.26</td>\n",
       "      <td>438.92</td>\n",
       "    </tr>\n",
       "    <tr>\n",
       "      <th>6826</th>\n",
       "      <td>24.79</td>\n",
       "      <td>75.60</td>\n",
       "      <td>1017.07</td>\n",
       "      <td>68.23</td>\n",
       "      <td>440.05</td>\n",
       "    </tr>\n",
       "    <tr>\n",
       "      <th>6883</th>\n",
       "      <td>12.27</td>\n",
       "      <td>41.17</td>\n",
       "      <td>1019.39</td>\n",
       "      <td>52.18</td>\n",
       "      <td>473.84</td>\n",
       "    </tr>\n",
       "    <tr>\n",
       "      <th>7410</th>\n",
       "      <td>7.24</td>\n",
       "      <td>41.17</td>\n",
       "      <td>1020.35</td>\n",
       "      <td>80.56</td>\n",
       "      <td>486.76</td>\n",
       "    </tr>\n",
       "    <tr>\n",
       "      <th>7604</th>\n",
       "      <td>12.19</td>\n",
       "      <td>41.17</td>\n",
       "      <td>1019.43</td>\n",
       "      <td>65.47</td>\n",
       "      <td>475.64</td>\n",
       "    </tr>\n",
       "    <tr>\n",
       "      <th>7758</th>\n",
       "      <td>28.37</td>\n",
       "      <td>75.60</td>\n",
       "      <td>1017.48</td>\n",
       "      <td>55.19</td>\n",
       "      <td>439.25</td>\n",
       "    </tr>\n",
       "    <tr>\n",
       "      <th>7769</th>\n",
       "      <td>26.85</td>\n",
       "      <td>75.60</td>\n",
       "      <td>1017.43</td>\n",
       "      <td>74.55</td>\n",
       "      <td>433.48</td>\n",
       "    </tr>\n",
       "    <tr>\n",
       "      <th>7771</th>\n",
       "      <td>7.87</td>\n",
       "      <td>41.17</td>\n",
       "      <td>1020.33</td>\n",
       "      <td>77.77</td>\n",
       "      <td>486.20</td>\n",
       "    </tr>\n",
       "    <tr>\n",
       "      <th>8105</th>\n",
       "      <td>8.44</td>\n",
       "      <td>41.17</td>\n",
       "      <td>1019.90</td>\n",
       "      <td>70.72</td>\n",
       "      <td>486.15</td>\n",
       "    </tr>\n",
       "    <tr>\n",
       "      <th>8499</th>\n",
       "      <td>11.61</td>\n",
       "      <td>41.17</td>\n",
       "      <td>1019.57</td>\n",
       "      <td>58.82</td>\n",
       "      <td>476.81</td>\n",
       "    </tr>\n",
       "    <tr>\n",
       "      <th>8523</th>\n",
       "      <td>10.72</td>\n",
       "      <td>41.17</td>\n",
       "      <td>1019.68</td>\n",
       "      <td>60.71</td>\n",
       "      <td>479.21</td>\n",
       "    </tr>\n",
       "    <tr>\n",
       "      <th>8639</th>\n",
       "      <td>9.83</td>\n",
       "      <td>41.17</td>\n",
       "      <td>1019.34</td>\n",
       "      <td>72.29</td>\n",
       "      <td>478.21</td>\n",
       "    </tr>\n",
       "    <tr>\n",
       "      <th>8685</th>\n",
       "      <td>26.12</td>\n",
       "      <td>75.60</td>\n",
       "      <td>1017.41</td>\n",
       "      <td>72.31</td>\n",
       "      <td>439.68</td>\n",
       "    </tr>\n",
       "    <tr>\n",
       "      <th>8821</th>\n",
       "      <td>27.64</td>\n",
       "      <td>75.60</td>\n",
       "      <td>1017.35</td>\n",
       "      <td>54.78</td>\n",
       "      <td>441.04</td>\n",
       "    </tr>\n",
       "    <tr>\n",
       "      <th>8882</th>\n",
       "      <td>29.45</td>\n",
       "      <td>75.60</td>\n",
       "      <td>1018.12</td>\n",
       "      <td>50.68</td>\n",
       "      <td>437.31</td>\n",
       "    </tr>\n",
       "    <tr>\n",
       "      <th>9000</th>\n",
       "      <td>29.05</td>\n",
       "      <td>75.60</td>\n",
       "      <td>1017.63</td>\n",
       "      <td>51.16</td>\n",
       "      <td>439.14</td>\n",
       "    </tr>\n",
       "    <tr>\n",
       "      <th>9097</th>\n",
       "      <td>11.82</td>\n",
       "      <td>41.17</td>\n",
       "      <td>1019.50</td>\n",
       "      <td>55.74</td>\n",
       "      <td>475.61</td>\n",
       "    </tr>\n",
       "    <tr>\n",
       "      <th>9138</th>\n",
       "      <td>28.41</td>\n",
       "      <td>75.60</td>\n",
       "      <td>1018.48</td>\n",
       "      <td>56.07</td>\n",
       "      <td>440.28</td>\n",
       "    </tr>\n",
       "    <tr>\n",
       "      <th>9147</th>\n",
       "      <td>7.64</td>\n",
       "      <td>41.17</td>\n",
       "      <td>1020.01</td>\n",
       "      <td>75.14</td>\n",
       "      <td>488.53</td>\n",
       "    </tr>\n",
       "    <tr>\n",
       "      <th>9201</th>\n",
       "      <td>29.51</td>\n",
       "      <td>75.60</td>\n",
       "      <td>1017.92</td>\n",
       "      <td>50.61</td>\n",
       "      <td>431.18</td>\n",
       "    </tr>\n",
       "    <tr>\n",
       "      <th>9345</th>\n",
       "      <td>8.57</td>\n",
       "      <td>41.17</td>\n",
       "      <td>1020.18</td>\n",
       "      <td>72.47</td>\n",
       "      <td>484.20</td>\n",
       "    </tr>\n",
       "    <tr>\n",
       "      <th>9523</th>\n",
       "      <td>12.27</td>\n",
       "      <td>41.17</td>\n",
       "      <td>1019.41</td>\n",
       "      <td>58.10</td>\n",
       "      <td>475.13</td>\n",
       "    </tr>\n",
       "  </tbody>\n",
       "</table>\n",
       "</div>"
      ],
      "text/plain": [
       "         AT      V       AP     RH      PE\n",
       "2184   9.54  41.17  1019.79  65.61  481.18\n",
       "2421  12.11  41.17  1019.46  62.59  475.53\n",
       "2577  28.84  75.60  1018.41  53.96  442.69\n",
       "2896  27.54  75.60  1018.26  57.89  440.87\n",
       "3314   8.07  41.17  1019.40  86.43  484.54\n",
       "4236  25.79  75.60  1017.46  75.63  434.65\n",
       "4549  11.23  41.17  1019.36  56.85  475.85\n",
       "4577  24.63  59.57  1010.45  85.36  440.67\n",
       "4667  25.21  75.60  1017.19  69.84  445.84\n",
       "5276  25.56  75.60  1017.37  69.31  442.20\n",
       "5320   6.03  41.17  1019.81  84.20  488.57\n",
       "5467  26.45  75.60  1017.42  74.50  436.89\n",
       "5498   6.86  41.17  1020.12  79.14  490.23\n",
       "5615  12.00  41.17  1019.48  58.71  474.40\n",
       "5828  25.42  75.60  1017.39  77.63  438.24\n",
       "5933  25.53  59.57  1010.65  82.04  445.59\n",
       "5955  25.91  75.60  1018.23  62.65  443.20\n",
       "6008   6.06  41.17  1019.67  84.70  489.62\n",
       "6131   6.40  41.17  1019.54  85.37  488.82\n",
       "6227  29.23  75.60  1017.72  52.26  438.92\n",
       "6826  24.79  75.60  1017.07  68.23  440.05\n",
       "6883  12.27  41.17  1019.39  52.18  473.84\n",
       "7410   7.24  41.17  1020.35  80.56  486.76\n",
       "7604  12.19  41.17  1019.43  65.47  475.64\n",
       "7758  28.37  75.60  1017.48  55.19  439.25\n",
       "7769  26.85  75.60  1017.43  74.55  433.48\n",
       "7771   7.87  41.17  1020.33  77.77  486.20\n",
       "8105   8.44  41.17  1019.90  70.72  486.15\n",
       "8499  11.61  41.17  1019.57  58.82  476.81\n",
       "8523  10.72  41.17  1019.68  60.71  479.21\n",
       "8639   9.83  41.17  1019.34  72.29  478.21\n",
       "8685  26.12  75.60  1017.41  72.31  439.68\n",
       "8821  27.64  75.60  1017.35  54.78  441.04\n",
       "8882  29.45  75.60  1018.12  50.68  437.31\n",
       "9000  29.05  75.60  1017.63  51.16  439.14\n",
       "9097  11.82  41.17  1019.50  55.74  475.61\n",
       "9138  28.41  75.60  1018.48  56.07  440.28\n",
       "9147   7.64  41.17  1020.01  75.14  488.53\n",
       "9201  29.51  75.60  1017.92  50.61  431.18\n",
       "9345   8.57  41.17  1020.18  72.47  484.20\n",
       "9523  12.27  41.17  1019.41  58.10  475.13"
      ]
     },
     "execution_count": 30,
     "metadata": {},
     "output_type": "execute_result"
    }
   ],
   "source": [
    "df[df.duplicated()]"
   ]
  },
  {
   "cell_type": "code",
   "execution_count": 34,
   "metadata": {},
   "outputs": [],
   "source": [
    "df.drop_duplicates(inplace=True)"
   ]
  },
  {
   "cell_type": "code",
   "execution_count": 35,
   "metadata": {},
   "outputs": [
    {
     "data": {
      "text/plain": [
       "(9527, 5)"
      ]
     },
     "execution_count": 35,
     "metadata": {},
     "output_type": "execute_result"
    }
   ],
   "source": [
    "df.shape"
   ]
  },
  {
   "cell_type": "code",
   "execution_count": 36,
   "metadata": {},
   "outputs": [
    {
     "data": {
      "text/html": [
       "<div>\n",
       "<style scoped>\n",
       "    .dataframe tbody tr th:only-of-type {\n",
       "        vertical-align: middle;\n",
       "    }\n",
       "\n",
       "    .dataframe tbody tr th {\n",
       "        vertical-align: top;\n",
       "    }\n",
       "\n",
       "    .dataframe thead th {\n",
       "        text-align: right;\n",
       "    }\n",
       "</style>\n",
       "<table border=\"1\" class=\"dataframe\">\n",
       "  <thead>\n",
       "    <tr style=\"text-align: right;\">\n",
       "      <th></th>\n",
       "      <th>AT</th>\n",
       "      <th>V</th>\n",
       "      <th>AP</th>\n",
       "      <th>RH</th>\n",
       "      <th>PE</th>\n",
       "    </tr>\n",
       "  </thead>\n",
       "  <tbody>\n",
       "    <tr>\n",
       "      <th>count</th>\n",
       "      <td>9527.000000</td>\n",
       "      <td>9527.000000</td>\n",
       "      <td>9527.000000</td>\n",
       "      <td>9527.000000</td>\n",
       "      <td>9527.00000</td>\n",
       "    </tr>\n",
       "    <tr>\n",
       "      <th>mean</th>\n",
       "      <td>19.658225</td>\n",
       "      <td>54.293421</td>\n",
       "      <td>1013.237084</td>\n",
       "      <td>73.334951</td>\n",
       "      <td>454.33591</td>\n",
       "    </tr>\n",
       "    <tr>\n",
       "      <th>std</th>\n",
       "      <td>7.444397</td>\n",
       "      <td>12.686309</td>\n",
       "      <td>5.940526</td>\n",
       "      <td>14.607513</td>\n",
       "      <td>17.03908</td>\n",
       "    </tr>\n",
       "    <tr>\n",
       "      <th>min</th>\n",
       "      <td>1.810000</td>\n",
       "      <td>25.360000</td>\n",
       "      <td>992.890000</td>\n",
       "      <td>25.560000</td>\n",
       "      <td>420.26000</td>\n",
       "    </tr>\n",
       "    <tr>\n",
       "      <th>25%</th>\n",
       "      <td>13.530000</td>\n",
       "      <td>41.740000</td>\n",
       "      <td>1009.085000</td>\n",
       "      <td>63.375000</td>\n",
       "      <td>439.75000</td>\n",
       "    </tr>\n",
       "    <tr>\n",
       "      <th>50%</th>\n",
       "      <td>20.350000</td>\n",
       "      <td>52.080000</td>\n",
       "      <td>1012.920000</td>\n",
       "      <td>75.000000</td>\n",
       "      <td>451.52000</td>\n",
       "    </tr>\n",
       "    <tr>\n",
       "      <th>75%</th>\n",
       "      <td>25.710000</td>\n",
       "      <td>66.510000</td>\n",
       "      <td>1017.200000</td>\n",
       "      <td>84.850000</td>\n",
       "      <td>468.36500</td>\n",
       "    </tr>\n",
       "    <tr>\n",
       "      <th>max</th>\n",
       "      <td>37.110000</td>\n",
       "      <td>81.560000</td>\n",
       "      <td>1033.300000</td>\n",
       "      <td>100.160000</td>\n",
       "      <td>495.76000</td>\n",
       "    </tr>\n",
       "  </tbody>\n",
       "</table>\n",
       "</div>"
      ],
      "text/plain": [
       "                AT            V           AP           RH          PE\n",
       "count  9527.000000  9527.000000  9527.000000  9527.000000  9527.00000\n",
       "mean     19.658225    54.293421  1013.237084    73.334951   454.33591\n",
       "std       7.444397    12.686309     5.940526    14.607513    17.03908\n",
       "min       1.810000    25.360000   992.890000    25.560000   420.26000\n",
       "25%      13.530000    41.740000  1009.085000    63.375000   439.75000\n",
       "50%      20.350000    52.080000  1012.920000    75.000000   451.52000\n",
       "75%      25.710000    66.510000  1017.200000    84.850000   468.36500\n",
       "max      37.110000    81.560000  1033.300000   100.160000   495.76000"
      ]
     },
     "execution_count": 36,
     "metadata": {},
     "output_type": "execute_result"
    }
   ],
   "source": [
    "df.describe()"
   ]
  },
  {
   "cell_type": "markdown",
   "metadata": {},
   "source": [
    "#### Checking Missing Values"
   ]
  },
  {
   "cell_type": "code",
   "execution_count": 10,
   "metadata": {},
   "outputs": [
    {
     "data": {
      "text/plain": [
       "AT    False\n",
       "V     False\n",
       "AP    False\n",
       "RH    False\n",
       "PE    False\n",
       "dtype: bool"
      ]
     },
     "execution_count": 10,
     "metadata": {},
     "output_type": "execute_result"
    }
   ],
   "source": [
    "df.isna().any()"
   ]
  },
  {
   "cell_type": "markdown",
   "metadata": {},
   "source": [
    "#### Univariate Analysis"
   ]
  },
  {
   "cell_type": "code",
   "execution_count": 37,
   "metadata": {},
   "outputs": [
    {
     "name": "stderr",
     "output_type": "stream",
     "text": [
      "C:\\Users\\rakes\\anaconda3\\lib\\site-packages\\pandas\\plotting\\_matplotlib\\hist.py:464: MatplotlibDeprecationWarning: \n",
      "The 'normed' kwarg was deprecated in Matplotlib 2.1 and will be removed in 3.1. Use 'density' instead.\n",
      "  ax.hist(data[col].dropna().values, bins=bins, **kwds)\n"
     ]
    },
    {
     "data": {
      "image/png": "[encoded data removed]",
      "text/plain": [
       "<Figure size 1440x2160 with 6 Axes>"
      ]
     },
     "metadata": {
      "needs_background": "light"
     },
     "output_type": "display_data"
    }
   ],
   "source": [
    "df.hist(figsize = (20,30),normed = True) #summary of distribution for relevant variables\n",
    "plt.show()"
   ]
  },
  {
   "cell_type": "code",
   "execution_count": 38,
   "metadata": {},
   "outputs": [
    {
     "data": {
      "image/png": "[encoded data removed]",
      "text/plain": [
       "<Figure size 720x1440 with 1 Axes>"
      ]
     },
     "metadata": {
      "needs_background": "light"
     },
     "output_type": "display_data"
    }
   ],
   "source": [
    "df.boxplot(figsize = (10,20)) #summary of distribution for relevant variables\n",
    "plt.show()"
   ]
  },
  {
   "cell_type": "markdown",
   "metadata": {},
   "source": [
    "#### Splitting the Dataframe into independent and dependent variables"
   ]
  },
  {
   "cell_type": "code",
   "execution_count": 40,
   "metadata": {},
   "outputs": [
    {
     "name": "stdout",
     "output_type": "stream",
     "text": [
      "[[  14.96   41.76 1024.07   73.17]\n",
      " [  25.18   62.96 1020.04   59.08]\n",
      " [   5.11   39.4  1012.16   92.14]\n",
      " ...\n",
      " [  31.32   74.33 1012.92   36.48]\n",
      " [  24.48   69.45 1013.86   62.39]\n",
      " [  21.6    62.52 1017.23   67.87]]\n",
      "[463.26 444.37 488.56 ... 429.57 435.74 453.28]\n"
     ]
    }
   ],
   "source": [
    "X = df.iloc[:,:-1].values\n",
    "print(X)\n",
    "Y = df.iloc[:,-1].values\n",
    "print(Y)"
   ]
  },
  {
   "cell_type": "markdown",
   "metadata": {},
   "source": [
    "#### Splitting the data into training and test set"
   ]
  },
  {
   "cell_type": "code",
   "execution_count": 42,
   "metadata": {},
   "outputs": [],
   "source": [
    "X_train,X_test,Y_train,Y_test = train_test_split(X,Y,test_size = 0.2,random_state = 0)"
   ]
  },
  {
   "cell_type": "markdown",
   "metadata": {},
   "source": [
    "## Part-3: Building the ANN"
   ]
  },
  {
   "cell_type": "markdown",
   "metadata": {},
   "source": [
    "#### Initialize the ANN"
   ]
  },
  {
   "cell_type": "code",
   "execution_count": 44,
   "metadata": {},
   "outputs": [],
   "source": [
    "ann = tf.keras.models.Sequential()"
   ]
  },
  {
   "cell_type": "markdown",
   "metadata": {},
   "source": [
    "#### Add input layer and 1st hidden layer"
   ]
  },
  {
   "cell_type": "code",
   "execution_count": 45,
   "metadata": {},
   "outputs": [],
   "source": [
    "ann.add(tf.keras.layers.Dense(units = 6, activation = 'relu'))"
   ]
  },
  {
   "cell_type": "markdown",
   "metadata": {},
   "source": [
    "#### Add 2nd hidden layer"
   ]
  },
  {
   "cell_type": "code",
   "execution_count": 46,
   "metadata": {},
   "outputs": [],
   "source": [
    "ann.add(tf.keras.layers.Dense(units = 6, activation = 'relu'))"
   ]
  },
  {
   "cell_type": "markdown",
   "metadata": {},
   "source": [
    "#### Add output layer"
   ]
  },
  {
   "cell_type": "code",
   "execution_count": 47,
   "metadata": {},
   "outputs": [],
   "source": [
    "ann.add(tf.keras.layers.Dense(units=1))"
   ]
  },
  {
   "cell_type": "markdown",
   "metadata": {},
   "source": [
    "## Part-4: Training the ANN"
   ]
  },
  {
   "cell_type": "markdown",
   "metadata": {},
   "source": [
    "#### Compiling the ANN"
   ]
  },
  {
   "cell_type": "code",
   "execution_count": 48,
   "metadata": {},
   "outputs": [],
   "source": [
    "ann.compile(optimizer = 'adam',loss='mean_squared_error')"
   ]
  },
  {
   "cell_type": "markdown",
   "metadata": {},
   "source": [
    "#### Training the model on training set"
   ]
  },
  {
   "cell_type": "code",
   "execution_count": 50,
   "metadata": {},
   "outputs": [
    {
     "name": "stdout",
     "output_type": "stream",
     "text": [
      "Epoch 1/100\n",
      "239/239 [==============================] - 2s 3ms/step - loss: 79884.3594\n",
      "Epoch 2/100\n",
      "239/239 [==============================] - 1s 2ms/step - loss: 885.0423\n",
      "Epoch 3/100\n",
      "239/239 [==============================] - 1s 2ms/step - loss: 342.8344\n",
      "Epoch 4/100\n",
      "239/239 [==============================] - 1s 2ms/step - loss: 336.6585\n",
      "Epoch 5/100\n",
      "239/239 [==============================] - 1s 2ms/step - loss: 329.0771\n",
      "Epoch 6/100\n",
      "239/239 [==============================] - 1s 2ms/step - loss: 320.2676\n",
      "Epoch 7/100\n",
      "239/239 [==============================] - 1s 2ms/step - loss: 310.5198\n",
      "Epoch 8/100\n",
      "239/239 [==============================] - 0s 2ms/step - loss: 299.0764\n",
      "Epoch 9/100\n",
      "239/239 [==============================] - 1s 2ms/step - loss: 286.8826\n",
      "Epoch 10/100\n",
      "239/239 [==============================] - 1s 2ms/step - loss: 274.1669\n",
      "Epoch 11/100\n",
      "239/239 [==============================] - 1s 2ms/step - loss: 260.4263\n",
      "Epoch 12/100\n",
      "239/239 [==============================] - 1s 2ms/step - loss: 245.1535\n",
      "Epoch 13/100\n",
      "239/239 [==============================] - 1s 2ms/step - loss: 229.5462\n",
      "Epoch 14/100\n",
      "239/239 [==============================] - 1s 2ms/step - loss: 213.8497\n",
      "Epoch 15/100\n",
      "239/239 [==============================] - 1s 2ms/step - loss: 197.9917\n",
      "Epoch 16/100\n",
      "239/239 [==============================] - 1s 2ms/step - loss: 181.3843\n",
      "Epoch 17/100\n",
      "239/239 [==============================] - 1s 2ms/step - loss: 165.4396\n",
      "Epoch 18/100\n",
      "239/239 [==============================] - 1s 2ms/step - loss: 149.9442\n",
      "Epoch 19/100\n",
      "239/239 [==============================] - 1s 2ms/step - loss: 134.7663\n",
      "Epoch 20/100\n",
      "239/239 [==============================] - 1s 2ms/step - loss: 120.7185\n",
      "Epoch 21/100\n",
      "239/239 [==============================] - 1s 2ms/step - loss: 107.3768\n",
      "Epoch 22/100\n",
      "239/239 [==============================] - 1s 2ms/step - loss: 95.1894\n",
      "Epoch 23/100\n",
      "239/239 [==============================] - 1s 2ms/step - loss: 84.7828\n",
      "Epoch 24/100\n",
      "239/239 [==============================] - 1s 2ms/step - loss: 75.6592\n",
      "Epoch 25/100\n",
      "239/239 [==============================] - 1s 2ms/step - loss: 67.4213\n",
      "Epoch 26/100\n",
      "239/239 [==============================] - 0s 2ms/step - loss: 60.0959\n",
      "Epoch 27/100\n",
      "239/239 [==============================] - 1s 2ms/step - loss: 54.3714\n",
      "Epoch 28/100\n",
      "239/239 [==============================] - 1s 2ms/step - loss: 48.7418\n",
      "Epoch 29/100\n",
      "239/239 [==============================] - 1s 2ms/step - loss: 44.6922\n",
      "Epoch 30/100\n",
      "239/239 [==============================] - 1s 2ms/step - loss: 41.0104\n",
      "Epoch 31/100\n",
      "239/239 [==============================] - 0s 2ms/step - loss: 37.9891\n",
      "Epoch 32/100\n",
      "239/239 [==============================] - 1s 2ms/step - loss: 35.5436\n",
      "Epoch 33/100\n",
      "239/239 [==============================] - 1s 2ms/step - loss: 34.0295\n",
      "Epoch 34/100\n",
      "239/239 [==============================] - 1s 2ms/step - loss: 32.5513\n",
      "Epoch 35/100\n",
      "239/239 [==============================] - 1s 2ms/step - loss: 31.1630\n",
      "Epoch 36/100\n",
      "239/239 [==============================] - 1s 2ms/step - loss: 30.5621\n",
      "Epoch 37/100\n",
      "239/239 [==============================] - 1s 2ms/step - loss: 29.5268\n",
      "Epoch 38/100\n",
      "239/239 [==============================] - 1s 2ms/step - loss: 29.7889\n",
      "Epoch 39/100\n",
      "239/239 [==============================] - 1s 2ms/step - loss: 28.8529\n",
      "Epoch 40/100\n",
      "239/239 [==============================] - 1s 2ms/step - loss: 28.6250\n",
      "Epoch 41/100\n",
      "239/239 [==============================] - 1s 2ms/step - loss: 28.7000\n",
      "Epoch 42/100\n",
      "239/239 [==============================] - 1s 2ms/step - loss: 28.3242\n",
      "Epoch 43/100\n",
      "239/239 [==============================] - 1s 2ms/step - loss: 27.8152\n",
      "Epoch 44/100\n",
      "239/239 [==============================] - 1s 2ms/step - loss: 27.9323\n",
      "Epoch 45/100\n",
      "239/239 [==============================] - 1s 2ms/step - loss: 27.8438\n",
      "Epoch 46/100\n",
      "239/239 [==============================] - 1s 2ms/step - loss: 27.5035\n",
      "Epoch 47/100\n",
      "239/239 [==============================] - 1s 2ms/step - loss: 27.6102\n",
      "Epoch 48/100\n",
      "239/239 [==============================] - 1s 2ms/step - loss: 26.8008\n",
      "Epoch 49/100\n",
      "239/239 [==============================] - 1s 2ms/step - loss: 27.1302\n",
      "Epoch 50/100\n",
      "239/239 [==============================] - 1s 2ms/step - loss: 27.2117\n",
      "Epoch 51/100\n",
      "239/239 [==============================] - 1s 2ms/step - loss: 26.9161\n",
      "Epoch 52/100\n",
      "239/239 [==============================] - 1s 2ms/step - loss: 27.0939\n",
      "Epoch 53/100\n",
      "239/239 [==============================] - 1s 2ms/step - loss: 26.5155\n",
      "Epoch 54/100\n",
      "239/239 [==============================] - 1s 2ms/step - loss: 26.7875\n",
      "Epoch 55/100\n",
      "239/239 [==============================] - 1s 2ms/step - loss: 26.6900\n",
      "Epoch 56/100\n",
      "239/239 [==============================] - 1s 2ms/step - loss: 26.3692\n",
      "Epoch 57/100\n",
      "239/239 [==============================] - 1s 2ms/step - loss: 26.4757\n",
      "Epoch 58/100\n",
      "239/239 [==============================] - 0s 2ms/step - loss: 26.7895\n",
      "Epoch 59/100\n",
      "239/239 [==============================] - 1s 2ms/step - loss: 26.3825\n",
      "Epoch 60/100\n",
      "239/239 [==============================] - 1s 2ms/step - loss: 26.8245\n",
      "Epoch 61/100\n",
      "239/239 [==============================] - 1s 2ms/step - loss: 26.0486\n",
      "Epoch 62/100\n",
      "239/239 [==============================] - 1s 2ms/step - loss: 26.6102\n",
      "Epoch 63/100\n",
      "239/239 [==============================] - 1s 2ms/step - loss: 26.6139\n",
      "Epoch 64/100\n",
      "239/239 [==============================] - 1s 2ms/step - loss: 26.6716\n",
      "Epoch 65/100\n",
      "239/239 [==============================] - 1s 2ms/step - loss: 26.2588\n",
      "Epoch 66/100\n",
      "239/239 [==============================] - 1s 2ms/step - loss: 26.0379\n",
      "Epoch 67/100\n",
      "239/239 [==============================] - 1s 2ms/step - loss: 26.4705\n",
      "Epoch 68/100\n",
      "239/239 [==============================] - 1s 2ms/step - loss: 26.4115\n",
      "Epoch 69/100\n",
      "239/239 [==============================] - 1s 2ms/step - loss: 25.9470\n",
      "Epoch 70/100\n",
      "239/239 [==============================] - 1s 2ms/step - loss: 26.2864\n",
      "Epoch 71/100\n",
      "239/239 [==============================] - 1s 2ms/step - loss: 26.3316\n",
      "Epoch 72/100\n",
      "239/239 [==============================] - 1s 2ms/step - loss: 27.1116\n",
      "Epoch 73/100\n",
      "239/239 [==============================] - 1s 2ms/step - loss: 26.4309\n",
      "Epoch 74/100\n",
      "239/239 [==============================] - 1s 2ms/step - loss: 26.1069\n",
      "Epoch 75/100\n",
      "239/239 [==============================] - 1s 2ms/step - loss: 26.0385\n",
      "Epoch 76/100\n",
      "239/239 [==============================] - 1s 2ms/step - loss: 26.4610\n",
      "Epoch 77/100\n",
      "239/239 [==============================] - 1s 2ms/step - loss: 26.1456\n",
      "Epoch 78/100\n",
      "239/239 [==============================] - 1s 2ms/step - loss: 25.9735\n",
      "Epoch 79/100\n",
      "239/239 [==============================] - 1s 2ms/step - loss: 26.6956\n",
      "Epoch 80/100\n",
      "239/239 [==============================] - 1s 2ms/step - loss: 26.1615\n",
      "Epoch 81/100\n",
      "239/239 [==============================] - 1s 2ms/step - loss: 26.5533\n",
      "Epoch 82/100\n",
      "239/239 [==============================] - 1s 2ms/step - loss: 26.1665\n",
      "Epoch 83/100\n",
      "239/239 [==============================] - 1s 2ms/step - loss: 26.1814\n",
      "Epoch 84/100\n",
      "239/239 [==============================] - 1s 2ms/step - loss: 26.5223\n",
      "Epoch 85/100\n",
      "239/239 [==============================] - 1s 2ms/step - loss: 26.1794\n",
      "Epoch 86/100\n",
      "239/239 [==============================] - 1s 2ms/step - loss: 26.3792\n",
      "Epoch 87/100\n",
      "239/239 [==============================] - 1s 2ms/step - loss: 26.4174\n",
      "Epoch 88/100\n",
      "239/239 [==============================] - 1s 2ms/step - loss: 26.3533\n",
      "Epoch 89/100\n",
      "239/239 [==============================] - 1s 2ms/step - loss: 26.2297\n",
      "Epoch 90/100\n",
      "239/239 [==============================] - 1s 2ms/step - loss: 26.2138\n",
      "Epoch 91/100\n",
      "239/239 [==============================] - 1s 2ms/step - loss: 26.5624\n",
      "Epoch 92/100\n",
      "239/239 [==============================] - 1s 2ms/step - loss: 26.1957\n",
      "Epoch 93/100\n",
      "239/239 [==============================] - 1s 2ms/step - loss: 26.6638\n",
      "Epoch 94/100\n",
      "239/239 [==============================] - 1s 2ms/step - loss: 26.2086\n",
      "Epoch 95/100\n",
      "239/239 [==============================] - 1s 2ms/step - loss: 25.9424\n",
      "Epoch 96/100\n",
      "239/239 [==============================] - 1s 2ms/step - loss: 25.9468\n",
      "Epoch 97/100\n",
      "239/239 [==============================] - 1s 2ms/step - loss: 26.0343\n",
      "Epoch 98/100\n"
     ]
    },
    {
     "name": "stdout",
     "output_type": "stream",
     "text": [
      "239/239 [==============================] - 1s 2ms/step - loss: 26.2141\n",
      "Epoch 99/100\n",
      "239/239 [==============================] - 1s 2ms/step - loss: 26.1908\n",
      "Epoch 100/100\n",
      "239/239 [==============================] - 1s 2ms/step - loss: 26.0975\n"
     ]
    },
    {
     "data": {
      "text/plain": [
       "<keras.callbacks.History at 0x2562cfa3548>"
      ]
     },
     "execution_count": 50,
     "metadata": {},
     "output_type": "execute_result"
    }
   ],
   "source": [
    "ann.fit(X_train,Y_train,batch_size=32,epochs=100)"
   ]
  },
  {
   "cell_type": "code",
   "execution_count": 51,
   "metadata": {},
   "outputs": [
    {
     "name": "stdout",
     "output_type": "stream",
     "text": [
      "Model: \"sequential\"\n",
      "_________________________________________________________________\n",
      " Layer (type)                Output Shape              Param #   \n",
      "=================================================================\n",
      " dense (Dense)               (None, 6)                 30        \n",
      "                                                                 \n",
      " dense_1 (Dense)             (None, 6)                 42        \n",
      "                                                                 \n",
      " dense_2 (Dense)             (None, 1)                 7         \n",
      "                                                                 \n",
      "=================================================================\n",
      "Total params: 79\n",
      "Trainable params: 79\n",
      "Non-trainable params: 0\n",
      "_________________________________________________________________\n"
     ]
    }
   ],
   "source": [
    "ann.summary()"
   ]
  },
  {
   "cell_type": "code",
   "execution_count": 53,
   "metadata": {},
   "outputs": [
    {
     "name": "stdout",
     "output_type": "stream",
     "text": [
      "239/239 [==============================] - 1s 2ms/step - loss: 0.0000e+00\n"
     ]
    },
    {
     "data": {
      "text/plain": [
       "0.0"
      ]
     },
     "execution_count": 53,
     "metadata": {},
     "output_type": "execute_result"
    }
   ],
   "source": [
    "ann.evaluate(X_train)"
   ]
  },
  {
   "cell_type": "code",
   "execution_count": 56,
   "metadata": {},
   "outputs": [
    {
     "name": "stdout",
     "output_type": "stream",
     "text": [
      "[[488.81 478.46]\n",
      " [464.41 464.25]\n",
      " [454.66 461.94]\n",
      " ...\n",
      " [428.   433.56]\n",
      " [430.5  433.31]\n",
      " [482.31 472.7 ]]\n"
     ]
    }
   ],
   "source": [
    "Y_pred = ann.predict(X_test)\n",
    "np.set_printoptions(precision=2)\n",
    "print(np.concatenate((Y_test.reshape(len(Y_test),1),Y_pred.reshape(len(Y_pred),1)),1))"
   ]
  },
  {
   "cell_type": "markdown",
   "metadata": {},
   "source": [
    "### Summary:\n",
    "Model is predicting values almost equal to Y_test."
   ]
  }
 ],
 "metadata": {
  "kernelspec": {
   "display_name": "Python 3",
   "language": "python",
   "name": "python3"
  },
  "language_info": {
   "codemirror_mode": {
    "name": "ipython",
    "version": 3
   },
   "file_extension": ".py",
   "mimetype": "text/x-python",
   "name": "python",
   "nbconvert_exporter": "python",
   "pygments_lexer": "ipython3",
   "version": "3.7.6"
  }
 },
 "nbformat": 4,
 "nbformat_minor": 4
}
